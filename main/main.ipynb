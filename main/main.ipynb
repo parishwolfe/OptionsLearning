{
 "cells": [
  {
   "cell_type": "code",
   "execution_count": 2,
   "metadata": {},
   "outputs": [],
   "source": [
    "# Installing Interactive Brokers API\n",
    "\n",
    "# This is not installed with pip, instead you must install TWS or IB Gateway \n",
    "# then install the TWS API and install via the following commands\n",
    "# `python -m pip install setuptools`\n",
    "# `cd C:\\TWS API\\source\\pythonclient\\`\n",
    "# `python setup.py install`\n",
    "import ibapi"
   ]
  },
  {
   "cell_type": "code",
   "execution_count": 29,
   "metadata": {},
   "outputs": [
    {
     "name": "stderr",
     "output_type": "stream",
     "text": [
      "ERROR -1 2104 Market data farm connection is OK:hfarm\n",
      "ERROR -1 2104 Market data farm connection is OK:usfarm.nj\n",
      "ERROR -1 2104 Market data farm connection is OK:jfarm\n",
      "ERROR -1 2104 Market data farm connection is OK:usfuture\n",
      "ERROR -1 2104 Market data farm connection is OK:cashfarm\n",
      "ERROR -1 2104 Market data farm connection is OK:eufarmnj\n",
      "ERROR -1 2104 Market data farm connection is OK:usfarm\n",
      "ERROR -1 2106 HMDS data farm connection is OK:euhmds\n",
      "ERROR -1 2106 HMDS data farm connection is OK:fundfarm\n",
      "ERROR -1 2106 HMDS data farm connection is OK:ushmds\n",
      "ERROR -1 2158 Sec-def data farm connection is OK:secdefil\n"
     ]
    },
    {
     "name": "stdout",
     "output_type": "stream",
     "text": [
      "         Date   Close    Open    Volume    High     Low\n",
      "0    20221228  376.66  381.34  45531220  383.39  376.42\n",
      "1    20221229  383.44  379.66  43269617  384.35  379.08\n",
      "2    20221230  382.43  380.64  50712172  382.53  378.43\n",
      "3    20230103  380.82  384.42  49025780  386.43  377.83\n",
      "4    20230104  383.76  383.18  59492813  385.88  380.00\n",
      "..        ...     ...     ...       ...     ...     ...\n",
      "246  20231220  468.26  473.96  67376027  475.90  467.82\n",
      "247  20231221  472.70  471.32  57760976  472.98  468.84\n",
      "248  20231222  473.65  473.86  44344028  475.38  471.70\n",
      "249  20231226  475.65  474.08  31409570  476.58  473.99\n",
      "250  20231227  476.31  475.44  19242476  476.66  475.08\n",
      "\n",
      "[251 rows x 6 columns]\n"
     ]
    }
   ],
   "source": [
    "from ibapi.client import EClient\n",
    "from ibapi.wrapper import EWrapper\n",
    "from ibapi.contract import Contract\n",
    "import pandas as pd\n",
    "import threading\n",
    "import time\n",
    "\n",
    "class IBApi(EWrapper, EClient):\n",
    "    def __init__(self):\n",
    "        EClient.__init__(self, self)\n",
    "        self.data = []\n",
    "\n",
    "    def historicalData(self, reqId, bar):\n",
    "        self.data.append([bar.date, bar.close, bar.open, bar.volume, bar.high, bar.low])\n",
    "\n",
    "def run_loop():\n",
    "    app.run()\n",
    "\n",
    "# Establish connection to IB\n",
    "app = IBApi()\n",
    "app.connect(\"127.0.0.1\", 7497, clientId=123)\n",
    "api_thread = threading.Thread(target=run_loop, daemon=True)\n",
    "api_thread.start()\n",
    "time.sleep(10)  # Ensure that the connection is established\n",
    "\n",
    "# Define the contract\n",
    "contract = Contract()\n",
    "contract.symbol = \"SPY\"\n",
    "contract.secType = \"STK\"\n",
    "contract.exchange = \"SMART\"\n",
    "contract.currency = \"USD\"\n",
    "\n",
    "# Request historical data\n",
    "app.reqHistoricalData(reqId=1, contract=contract,\n",
    "                      endDateTime='', durationStr='1 Y',\n",
    "                      barSizeSetting='1 day', whatToShow='TRADES',\n",
    "                      useRTH=True, formatDate=1, keepUpToDate=False,\n",
    "                      chartOptions=[])\n",
    "\n",
    "time.sleep(5)  # Wait for data to be fetched\n",
    "\n",
    "# Disconnect\n",
    "app.disconnect()\n",
    "\n",
    "# Create DataFrame\n",
    "df = pd.DataFrame(app.data, columns=['Date', 'Close', 'Open', 'Volume', 'High', 'Low'])\n",
    "print(df)\n"
   ]
  }
 ],
 "metadata": {
  "kernelspec": {
   "display_name": "Python 3",
   "language": "python",
   "name": "python3"
  },
  "language_info": {
   "codemirror_mode": {
    "name": "ipython",
    "version": 3
   },
   "file_extension": ".py",
   "mimetype": "text/x-python",
   "name": "python",
   "nbconvert_exporter": "python",
   "pygments_lexer": "ipython3",
   "version": "3.12.1"
  }
 },
 "nbformat": 4,
 "nbformat_minor": 2
}
